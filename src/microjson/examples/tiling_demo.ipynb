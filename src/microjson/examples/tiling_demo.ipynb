{
 "cells": [
  {
   "cell_type": "markdown",
   "metadata": {},
   "source": [
    "# MicroJSON Tiling Demo\n",
    "\n",
    "This notebook demonstrates how to use the MicroJSON tiling functionality to create vector tiles from MicroJSON data. Vector tiles are a way to efficiently store and serve geospatial data for web mapping applications.\n",
    "\n",
    "## Overview\n",
    "\n",
    "In this demo, we will:\n",
    "1. Generate sample polygon data (or use existing MicroJSON data)\n",
    "2. Create a TileJSON specification\n",
    "3. Generate vector tiles from the MicroJSON data\n",
    "4. Save the tiles and metadata for use in web mapping applications"
   ]
  },
  {
   "cell_type": "markdown",
   "metadata": {},
   "source": [
    "## Import Required Libraries\n",
    "\n",
    "First, let's import the necessary libraries for tiling MicroJSON data."
   ]
  },
  {
   "cell_type": "code",
   "execution_count": 2,
   "metadata": {},
   "outputs": [],
   "source": [
    "from microjson.tilewriter import (\n",
    "    TileWriter,\n",
    "    getbounds,\n",
    "    extract_fields_ranges_enums\n",
    ")\n",
    "from pathlib import Path\n",
    "from microjson.tilemodel import TileJSON, TileModel, TileLayer\n",
    "import os\n",
    "from microjson.polygen import generate_polygons\n",
    "import json"
   ]
  },
  {
   "cell_type": "markdown",
   "metadata": {},
   "source": [
    "## Option 1: Generate Sample Polygon Data\n",
    "\n",
    "If you don't have existing MicroJSON data, we can generate sample polygon data using the `generate_polygons` function."
   ]
  },
  {
   "cell_type": "code",
   "execution_count": 3,
   "metadata": {},
   "outputs": [
    {
     "name": "stdout",
     "output_type": "stream",
     "text": [
      "Generated polygon data saved to example_generated.json\n"
     ]
    }
   ],
   "source": [
    "# Parameters for generating polygons\n",
    "GRID_SIZE = 10000  # Size of the grid\n",
    "CELL_SIZE = 100    # Size of each cell in the grid\n",
    "MIN_VERTICES = 10  # Minimum number of vertices per polygon\n",
    "MAX_VERTICES = 100 # Maximum number of vertices per polygon\n",
    "\n",
    "# Metadata types and options\n",
    "meta_types = {\n",
    "    \"num_vertices\": \"int\",\n",
    "}\n",
    "meta_values_options = {\n",
    "    \"polytype\": [\"Type1\", \"Type2\", \"Type3\", \"Type4\"]\n",
    "}\n",
    "\n",
    "# Output file path\n",
    "microjson_data_path = \"example_generated.json\"\n",
    "\n",
    "# Generate polygons\n",
    "generate_polygons(\n",
    "    GRID_SIZE,\n",
    "    CELL_SIZE,\n",
    "    MIN_VERTICES,\n",
    "    MAX_VERTICES,\n",
    "    meta_types,\n",
    "    meta_values_options,\n",
    "    microjson_data_path\n",
    ")\n",
    "\n",
    "print(f\"Generated polygon data saved to {microjson_data_path}\")"
   ]
  },
  {
   "cell_type": "markdown",
   "metadata": {},
   "source": [
    "## Option 2: Use Existing MicroJSON Data\n",
    "\n",
    "Alternatively, you can use existing MicroJSON data. Uncomment and modify the following cell to use your own data."
   ]
  },
  {
   "cell_type": "code",
   "execution_count": null,
   "metadata": {},
   "outputs": [],
   "source": [
    "# microjson_data_path = \"path/to/your/data.json\"\n",
    "# print(f\"Using existing MicroJSON data from {microjson_data_path}\")"
   ]
  },
  {
   "cell_type": "markdown",
   "metadata": {},
   "source": [
    "## Visualize the MicroJSON Data\n",
    "\n",
    "Let's take a look at the structure of our MicroJSON data."
   ]
  },
  {
   "cell_type": "code",
   "execution_count": 7,
   "metadata": {},
   "outputs": [
    {
     "name": "stdout",
     "output_type": "stream",
     "text": [
      "Number of features: 10000\n",
      "\n",
      "Sample feature:\n",
      "{\n",
      "  \"type\": \"Feature\",\n",
      "  \"geometry\": {\n",
      "    \"type\": \"Polygon\",\n",
      "    \"coordinates\": [\n",
      "      [\n",
      "        [\n",
      "          62.7619624272948,\n",
      "          9.7445327252005\n",
      "        ],\n",
      "        [\n",
      "          66.55786998050925,\n",
      "          10.453250162004622\n",
      "        ],\n",
      "        [\n",
      "          86.82803641255592,\n",
      "          51.64994084555056\n",
      "        ],\n",
      "        [\n",
      "          77.93853896392383,\n",
      "          68.85236038607228\n",
      "        ],\n",
      "        [\n",
      "          67.57602296868663,\n",
      "          78.79357410969412\n",
      "        ],\n",
      "        [\n",
      "          4...\n"
     ]
    }
   ],
   "source": [
    "# Load and display the first few features of the MicroJSON data\n",
    "with open(microjson_data_path, 'r') as f:\n",
    "    data = json.load(f)\n",
    "\n",
    "# Display basic information about the data\n",
    "print(f\"Number of features: {len(data.get('features', []))}\")\n",
    "\n",
    "# Display the first feature (truncated for readability)\n",
    "if 'features' in data and len(data['features']) > 0:\n",
    "    first_feature = data['features'][0]\n",
    "    print(\"\\nSample feature:\")\n",
    "    print(json.dumps(first_feature, indent=2)[:500] + \"...\")"
   ]
  },
  {
   "cell_type": "markdown",
   "metadata": {},
   "source": [
    "## Extract Fields, Ranges, and Enums\n",
    "\n",
    "For existing MicroJSON data, we can extract field information, value ranges, and enumeration values."
   ]
  },
  {
   "cell_type": "code",
   "execution_count": 8,
   "metadata": {},
   "outputs": [
    {
     "name": "stdout",
     "output_type": "stream",
     "text": [
      "Extracted field names:\n",
      "{'num_vertices': 'Number', 'polytype': 'String'}\n",
      "\n",
      "Extracted field ranges:\n",
      "{'num_vertices': [10, 24]}\n",
      "\n",
      "Extracted field enums:\n",
      "{'polytype': {'Type3', 'Type2', 'Type1', 'Type4'}}\n"
     ]
    }
   ],
   "source": [
    "# Extract fields, ranges, and enums from the MicroJSON data\n",
    "field_names, field_ranges, field_enums = extract_fields_ranges_enums(microjson_data_path)\n",
    "\n",
    "print(\"Extracted field names:\")\n",
    "print(field_names)\n",
    "\n",
    "print(\"\\nExtracted field ranges:\")\n",
    "print(field_ranges)\n",
    "\n",
    "print(\"\\nExtracted field enums:\")\n",
    "print(field_enums)"
   ]
  },
  {
   "cell_type": "markdown",
   "metadata": {},
   "source": [
    "## Define Vector Layers\n",
    "\n",
    "Now, let's define the vector layers for our tiles. We'll use the extracted field information."
   ]
  },
  {
   "cell_type": "code",
   "execution_count": 9,
   "metadata": {},
   "outputs": [
    {
     "name": "stdout",
     "output_type": "stream",
     "text": [
      "Vector layer defined with the following properties:\n",
      "ID: polygon-layer\n",
      "Fields: {'num_vertices': 'Number', 'polytype': 'String'}\n",
      "Zoom range: 0 - 10\n"
     ]
    }
   ],
   "source": [
    "# Create a TileLayer using the extracted fields\n",
    "vector_layers = [\n",
    "    TileLayer(\n",
    "        id=\"polygon-layer\",\n",
    "        fields=field_names,\n",
    "        minzoom=0,\n",
    "        maxzoom=10,\n",
    "        description=\"Layer containing polygon data\",\n",
    "        fieldranges=field_ranges,\n",
    "        fieldenums=field_enums,\n",
    "    )\n",
    "]\n",
    "\n",
    "print(\"Vector layer defined with the following properties:\")\n",
    "print(f\"ID: {vector_layers[0].id}\")\n",
    "print(f\"Fields: {vector_layers[0].fields}\")\n",
    "print(f\"Zoom range: {vector_layers[0].minzoom} - {vector_layers[0].maxzoom}\")"
   ]
  },
  {
   "cell_type": "markdown",
   "metadata": {},
   "source": [
    "## Get Bounds and Center\n",
    "\n",
    "Next, we'll calculate the bounds of our data to properly configure the tile model."
   ]
  },
  {
   "cell_type": "code",
   "execution_count": 10,
   "metadata": {},
   "outputs": [
    {
     "name": "stdout",
     "output_type": "stream",
     "text": [
      "Bounds: [5.352408515784582, 5.049442955279417, 9995.190828709661, 9994.887863149157]\n",
      "Center: [0, 5000.271618612723, 4999.9686530522185]\n"
     ]
    }
   ],
   "source": [
    "# Get bounds of the data (square=True ensures the bounds form a square)\n",
    "maxbounds = getbounds(microjson_data_path, square=True)\n",
    "print(f\"Bounds: {maxbounds}\")\n",
    "\n",
    "# Calculate the center of the bounds\n",
    "center = [0, (maxbounds[0] + maxbounds[2]) / 2, (maxbounds[1] + maxbounds[3]) / 2]\n",
    "print(f\"Center: {center}\")"
   ]
  },
  {
   "cell_type": "markdown",
   "metadata": {},
   "source": [
    "## Create the Tile Model\n",
    "\n",
    "Now, let's create the TileModel that will define our tile set."
   ]
  },
  {
   "cell_type": "code",
   "execution_count": 11,
   "metadata": {},
   "outputs": [
    {
     "name": "stdout",
     "output_type": "stream",
     "text": [
      "TileJSON specification:\n",
      "{\n",
      "  \"tilejson\": \"3.0.0\",\n",
      "  \"tiles\": [\n",
      "    \"tiles/{z}/{x}/{y}.pbf\"\n",
      "  ],\n",
      "  \"name\": \"Example Tile Layer\",\n",
      "  \"description\": \"A TileJSON example incorporating MicroJSON data\",\n",
      "  \"version\": \"1.0.0\",\n",
      "  \"attribution\": \"Polus AI\",\n",
      "  \"template\": null,\n",
      "  \"legend\": null,\n",
      "  \"scheme\": null,\n",
      "  \"grids\": null,\n",
      "  \"data\": null,\n",
      "  \"minzoom\": 0,\n",
      "  \"maxzoom\": 7,\n",
      "  \"bounds\": [\n",
      "    5.352408515784582,\n",
      "    5.049442955279417,\n",
      "    9995.190828709661,\n",
      "    9994.887863149157\n",
      "  ],\n",
      "  \"center\": [\n",
      "    0.0,\n",
      "    5000.271618612723,\n",
      "    4999.9686530522185\n",
      "  ],\n",
      "  \"fillzoom\": null,\n",
      "  \"vector_layers\": [\n",
      "    {\n",
      "      \"id\": \"polygon-layer\",\n",
      "      \"fields\": {\n",
      "        \"num_vertices\": \"Number\",\n",
      "        \"polytype\": \"String\"\n",
      "      },\n",
      "      \"minzoom\": 0,\n",
      "      \"maxzoom\": 10,\n",
      "      \"description\": \"Layer containing polygon data\",\n",
      "      \"fieldranges\": {\n",
      "        \"num_vertices\": [\n",
      "          10,\n",
      "          24\n",
      "        ]\n",
      "      },\n",
      "      \"fieldenums\": {\n",
      "        \"polytype\": [\n",
      "          \"Type3\",\n",
      "          \"Type2\",\n",
      "          \"Type1\",\n",
      "          \"Type4\"\n",
      "        ]\n",
      "      },\n",
      "      \"fielddescriptions\": null\n",
      "    }\n",
      "  ],\n",
      "  \"multiscale\": null,\n",
      "  \"scale_factor\": null\n",
      "}\n"
     ]
    }
   ],
   "source": [
    "# Create output directory for tiles\n",
    "os.makedirs(\"tiles\", exist_ok=True)\n",
    "\n",
    "# Instantiate TileModel with our settings\n",
    "tile_model = TileModel(\n",
    "    tilejson=\"3.0.0\",\n",
    "    tiles=[Path(\"tiles/{z}/{x}/{y}.pbf\")],  # Local path or URL\n",
    "    name=\"Example Tile Layer\",\n",
    "    description=\"A TileJSON example incorporating MicroJSON data\",\n",
    "    version=\"1.0.0\",\n",
    "    attribution=\"Polus AI\",\n",
    "    minzoom=0,\n",
    "    maxzoom=7,\n",
    "    bounds=maxbounds,\n",
    "    center=center,\n",
    "    vector_layers=vector_layers\n",
    ")\n",
    "\n",
    "# Create the root model with our TileModel instance\n",
    "tileobj = TileJSON(root=tile_model)\n",
    "\n",
    "# Display the TileJSON specification\n",
    "print(\"TileJSON specification:\")\n",
    "print(tileobj.model_dump_json(indent=2))"
   ]
  },
  {
   "cell_type": "markdown",
   "metadata": {},
   "source": [
    "## Export TileJSON Metadata\n",
    "\n",
    "Let's export the TileJSON metadata to a file."
   ]
  },
  {
   "cell_type": "code",
   "execution_count": 12,
   "metadata": {},
   "outputs": [
    {
     "name": "stdout",
     "output_type": "stream",
     "text": [
      "TileJSON metadata exported to tiles/metadata.json\n"
     ]
    }
   ],
   "source": [
    "# Export to tilejson\n",
    "with open(\"tiles/metadata.json\", \"w\") as f:\n",
    "    f.write(tileobj.model_dump_json(indent=2))\n",
    "\n",
    "print(\"TileJSON metadata exported to tiles/metadata.json\")"
   ]
  },
  {
   "cell_type": "markdown",
   "metadata": {},
   "source": [
    "## Generate Vector Tiles\n",
    "\n",
    "Finally, let's generate the vector tiles from our MicroJSON data."
   ]
  },
  {
   "cell_type": "code",
   "execution_count": 13,
   "metadata": {},
   "outputs": [
    {
     "name": "stdout",
     "output_type": "stream",
     "text": [
      "Vector tiles generated successfully!\n",
      "Generated tile zoom levels: ['7', '2', '0', 'tiled_example', '1', '5', '3', '4', '6']\n"
     ]
    }
   ],
   "source": [
    "# Initialize the TileWriter\n",
    "handler = TileWriter(tile_model, pbf=True)\n",
    "\n",
    "# Convert MicroJSON to tiles\n",
    "handler.microjson2tiles(microjson_data_path, validate=False)\n",
    "\n",
    "print(\"Vector tiles generated successfully!\")\n",
    "\n",
    "# List the generated tile directories to verify\n",
    "tile_dirs = [d for d in os.listdir(\"tiles\") if os.path.isdir(os.path.join(\"tiles\", d))]\n",
    "print(f\"Generated tile zoom levels: {tile_dirs}\")"
   ]
  },
  {
   "cell_type": "markdown",
   "metadata": {},
   "source": [
    "## Conclusion\n",
    "\n",
    "In this notebook, we've demonstrated how to:\n",
    "\n",
    "1. Generate or use existing MicroJSON data\n",
    "2. Extract field information from the data\n",
    "3. Define vector layers for our tiles\n",
    "4. Calculate bounds and center for our tile set\n",
    "5. Create a TileJSON specification\n",
    "6. Generate vector tiles from MicroJSON data\n",
    "\n",
    "These vector tiles can now be used in web mapping applications like Mapbox GL JS, Leaflet, or OpenLayers to display the data interactively."
   ]
  }
 ],
 "metadata": {
  "kernelspec": {
   "display_name": ".venv",
   "language": "python",
   "name": "python3"
  },
  "language_info": {
   "codemirror_mode": {
    "name": "ipython",
    "version": 3
   },
   "file_extension": ".py",
   "mimetype": "text/x-python",
   "name": "python",
   "nbconvert_exporter": "python",
   "pygments_lexer": "ipython3",
   "version": "3.11.3"
  }
 },
 "nbformat": 4,
 "nbformat_minor": 4
}
